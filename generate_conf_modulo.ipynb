{
 "cells": [
  {
   "cell_type": "code",
   "execution_count": 114,
   "id": "ec881208-8e75-4f36-926e-0f9c9820ff85",
   "metadata": {},
   "outputs": [],
   "source": [
    "import numpy as np\n",
    "from random import random\n",
    "from matplotlib import pyplot as plt\n",
    "import math\n",
    "from scipy.integrate import quad\n",
    "from scipy.optimize import fsolve"
   ]
  },
  {
   "cell_type": "code",
   "execution_count": 2,
   "id": "3a8ff660-6365-4461-996b-f544a075d94b",
   "metadata": {},
   "outputs": [],
   "source": [
    "def el_2(xi):\n",
    "    \"\"\"Renvoie exp(i*xi*lambda_2)\"\"\"\n",
    "    return np.array([[np.cos(xi), np.sin(xi), 0],\n",
    "                     [-np.sin(xi), np.cos(xi), 0],\n",
    "                     [0,0,1]])\n",
    "\n",
    "\n",
    "def el_3(xi):\n",
    "    return np.array([[np.exp(xi*1j), 0, 0],\n",
    "                     [0,np.exp(-xi*1j),0],\n",
    "                     [0, 0,1]])\n",
    "\n",
    "\n",
    "def el_5(xi):\n",
    "    return np.array([[np.cos(xi), 0, np.sin(xi)],\n",
    "                     [0,1,0],\n",
    "                     [-np.sin(xi), 0,np.cos(xi)]])\n",
    "\n",
    "def el_8(xi):\n",
    "    return np.array([[np.exp((xi/np.sqrt(3))*1j), 0, 0],\n",
    "                     [0,np.exp((xi/np.sqrt(3))*1j),0],\n",
    "                     [0, 0,np.exp(-2*(xi/np.sqrt(3))*1j)]])"
   ]
  },
  {
   "cell_type": "code",
   "execution_count": 3,
   "id": "b50ad3af-a949-4f14-b04a-1856f115fe9c",
   "metadata": {},
   "outputs": [],
   "source": [
    "def mat_rand_su3():\n",
    "    \"\"\"Renvoie une matrice aléatoire de su(3) en utilisant la paramétrisation de l'article geometry of su(3)\"\"\"\n",
    "    alpha, gamma, a, c = random()*np.pi,random()*np.pi,random()*np.pi,random()*np.pi\n",
    "    beta, b, theta = random()*np.pi/2,random()*np.pi/2,random()*np.pi/2\n",
    "    phi = random()*2*np.pi\n",
    "    return el_3(alpha) @ el_2(beta) @ el_3(gamma) @ el_5(theta) @ el_3(a) @ el_2(b) @ el_3(c) @ el_8(phi)"
   ]
  },
  {
   "cell_type": "code",
   "execution_count": 4,
   "id": "8d3b54a1-0e45-4c13-9cf9-53fe56579772",
   "metadata": {},
   "outputs": [],
   "source": [
    "def est_SU3(U, tol=1e-10):\n",
    "    \"\"\"\n",
    "    Vérifie si une matrice 3x3 U appartient au groupe SU(3).\n",
    "    \n",
    "    Arguments :\n",
    "    - U : ndarray, matrice 3x3 à vérifier\n",
    "    - tol : float, tolérance pour les erreurs numériques lors de la comparaison\n",
    "\n",
    "    Retourne :\n",
    "    - bool : True si la matrice est dans SU(3), False sinon\n",
    "    \"\"\"\n",
    "    # Vérifier l'unitarité : U * U_dagger = I\n",
    "    U_dagger = np.conjugate(U.T)\n",
    "    identite = np.eye(3, dtype=complex)\n",
    "    \n",
    "    if not np.allclose(U @ U_dagger, identite, atol=tol):\n",
    "        return False  # La matrice n'est pas unitaire\n",
    "    \n",
    "    # Vérifier que le déterminant est égal à 1 : det(U) = 1\n",
    "    if not np.isclose(np.linalg.det(U), 1, atol=tol):\n",
    "        return False  # Le déterminant n'est pas égal à 1\n",
    "    \n",
    "    return True  # La matrice est dans SU(3)\n"
   ]
  },
  {
   "cell_type": "code",
   "execution_count": 5,
   "id": "db5856ec-c8c8-4b8d-9bfe-a4ef03dd6530",
   "metadata": {},
   "outputs": [
    {
     "name": "stdout",
     "output_type": "stream",
     "text": [
      "True\n"
     ]
    }
   ],
   "source": [
    "M = mat_rand_su3()\n",
    "#M_d = np.conjugate(M.T)\n",
    "#print(np.linalg.det(M))\n",
    "#print(M @ M_d)\n",
    "print(est_SU3(M))"
   ]
  },
  {
   "cell_type": "code",
   "execution_count": 6,
   "id": "a134f13c-1755-4f7d-af4d-b09bb18a8119",
   "metadata": {},
   "outputs": [],
   "source": [
    "def init_conf(L=3, T=3, cold=True):\n",
    "    \"\"\"Renvoie une configuration de jauge:\n",
    "    L,T : dimensions de la lattice\n",
    "    mu : nb d'indices de Dirac (=nb de liens de jauge par point de la lattice\n",
    "    cold : booléen, si true : on génére une conf froide (id partout), sinon conf chaude\n",
    "    Le résultat est une lattice de taille L,T avec conditions aux bords non périodiques. Mais on a pas besoin de modifier explicitement les bords, on a juste à appeler les lien avec modulo\n",
    "    En chaque point (x,t) de la lattice, espace en ligne et temps en colonnes, il y a 2 matrices de SU3 repérées par l'indice mu, ce sont les 4 liens\n",
    "    de jauge reliées au point (x,t)\n",
    "    \"\"\"\n",
    "    mu = 2\n",
    "    conf = np.zeros((L,T,mu,3,3), dtype=complex)\n",
    "    for x in range(L):\n",
    "        for t in range(T):\n",
    "            for u in range(mu):\n",
    "                if (cold):\n",
    "                    conf[x,t,u] = np.eye(3)\n",
    "                else:\n",
    "                    conf[x,t,u] = mat_rand_su3()\n",
    "    return conf\n"
   ]
  },
  {
   "cell_type": "code",
   "execution_count": 7,
   "id": "7c82cb55-ab8d-41b2-a59e-596359744bc7",
   "metadata": {},
   "outputs": [],
   "source": [
    "def conf_est_SU3(conf, tol=1e-10):\n",
    "    \"\"\"\n",
    "    Vérifie si toutes les matrices 3x3 d'une configuration appartiennent au groupe SU(3).\n",
    "    \n",
    "    Arguments :\n",
    "    - conf : ndarray, configuration LxTxmux3x3 à vérifier\n",
    "    - tol : float, tolérance pour les erreurs numériques lors de la comparaison\n",
    "\n",
    "    Retourne :\n",
    "    - bool : True si la matrice est dans SU(3), False sinon\n",
    "    \"\"\"\n",
    "    L,T,mu,*_ = conf.shape\n",
    "    for i in range(L):\n",
    "        for j in range(T):\n",
    "            for u in range(mu):\n",
    "                if not est_SU3(conf[i,j,u]):\n",
    "                    return False\n",
    "    return True"
   ]
  },
  {
   "cell_type": "code",
   "execution_count": 8,
   "id": "038dc741-7ffc-4ec8-9d51-124249fc171a",
   "metadata": {},
   "outputs": [
    {
     "data": {
      "text/plain": [
       "True"
      ]
     },
     "execution_count": 8,
     "metadata": {},
     "output_type": "execute_result"
    }
   ],
   "source": [
    "c = init_conf(3,3,cold=False)\n",
    "conf_est_SU3(c)"
   ]
  },
  {
   "cell_type": "code",
   "execution_count": 9,
   "id": "2ec42f55-c8be-4549-90f4-c2255efaa89f",
   "metadata": {},
   "outputs": [],
   "source": [
    "def get_link(conf, x, t, mu):\n",
    "    \"\"\"\n",
    "    Récupère le lien (matrice de jauge) à (x, t) dans la direction mu (0=x, 1=t)\n",
    "    avec conditions aux bords périodiques.\n",
    "    \"\"\"\n",
    "    L,T,*_=conf.shape\n",
    "    x_pbc = x % L  # Appliquer périodicité en x\n",
    "    t_pbc = t % T  # Appliquer périodicité en t\n",
    "    return conf[x_pbc, t_pbc, mu]"
   ]
  },
  {
   "cell_type": "code",
   "execution_count": 70,
   "id": "364be6ac-3b3f-43fc-82b2-d097c8897235",
   "metadata": {},
   "outputs": [],
   "source": [
    "def update_link(conf, x, t, mu, new_matrix):\n",
    "    \"\"\"\n",
    "    Met à jour le lien (x, t, mu) en le multipliant a gauche avec une nouvelle matrice, en appliquant\n",
    "    les conditions aux bords périodiques.\n",
    "    \"\"\"\n",
    "    L,T,*_=conf.shape\n",
    "    x_pbc = x % L\n",
    "    t_pbc = t % T\n",
    "    conf[x_pbc, t_pbc, mu] = new_matrix@conf[x_pbc, t_pbc, mu]"
   ]
  },
  {
   "cell_type": "code",
   "execution_count": 11,
   "id": "6b9c7a06-63e6-4d7b-b709-0aa396f98e7c",
   "metadata": {},
   "outputs": [],
   "source": [
    "def calculate_plaquette(gauge_config, x, t):\n",
    "    \"\"\"\n",
    "    Calcule la plaquette à un site donné (x, t).\n",
    "    \"\"\"\n",
    "    L,T,*_=gauge_config.shape\n",
    "    # Liens nécessaires\n",
    "    Ux = get_link(gauge_config, x%L, t%T, 0)  # Lien dans x\n",
    "    Ut = get_link(gauge_config, x%L, t%T, 1)  # Lien dans t\n",
    "    Ux_t = get_link(gauge_config, x%L, (t + 1) % T, 0)  # Lien dans x au site (x, t+1)\n",
    "    Ut_x = get_link(gauge_config, (x + 1) % L, t%T, 1)  # Lien dans t au site (x+1, t)\n",
    "    \n",
    "    # Plaquette\n",
    "    plaquette = Ux @ Ut_x @ np.conj(Ux_t.T) @ np.conj(Ut.T)\n",
    "    return plaquette"
   ]
  },
  {
   "cell_type": "code",
   "execution_count": 12,
   "id": "9793f2be-ca2d-451b-b483-ac2d755edb8f",
   "metadata": {},
   "outputs": [],
   "source": [
    "def calculate_action(conf, beta):\n",
    "    L,T,*_=conf.shape\n",
    "    action = 0\n",
    "    for x in range(L):\n",
    "        for t in range(T):\n",
    "            plaquette_xt = calculate_plaquette(conf,x,t)\n",
    "            i = np.eye(3,dtype=complex)\n",
    "            action += np.trace(i-plaquette_xt).real\n",
    "    action = action*(beta/3)\n",
    "    return action\n",
    "            "
   ]
  },
  {
   "cell_type": "code",
   "execution_count": 13,
   "id": "ba6a291b-3720-474f-8e95-8e05c47e922b",
   "metadata": {},
   "outputs": [
    {
     "name": "stdout",
     "output_type": "stream",
     "text": [
      "26.841485461000104\n"
     ]
    }
   ],
   "source": [
    "c = init_conf(3,3,cold=False)\n",
    "print(calculate_action(c, 3))"
   ]
  },
  {
   "cell_type": "code",
   "execution_count": 14,
   "id": "3832aa74-81bf-4093-9109-8b84fcf4d5f2",
   "metadata": {},
   "outputs": [],
   "source": [
    "def calculate_diff_action(conf, x,t,mu,m, beta):\n",
    "    \"\"\"\n",
    "    Calcule la différence d'action entre la configuration de jauge conf et conf où on change le lien x, t, mu en m\n",
    "    delta S = new - old (proba d'acceptation MCMC en exp(-delta S)\n",
    "    \"\"\"\n",
    "    conf_new = conf\n",
    "    update_link(conf_new,x,t,mu,m)\n",
    "    action_old = calculate_action(conf, beta)\n",
    "    action_new = calculate_action(conf_new,beta)\n",
    "    diff = action_new-action_old\n",
    "    return diff"
   ]
  },
  {
   "cell_type": "code",
   "execution_count": 22,
   "id": "6845f0b8-1b95-44cf-a43b-1b3aa565c7d6",
   "metadata": {},
   "outputs": [
    {
     "name": "stdout",
     "output_type": "stream",
     "text": [
      "Solutions dans [0, 2*pi] : (2.0865746987290206, 6.05120104445379)\n"
     ]
    }
   ],
   "source": [
    "def solve_trig_eq(a, b, c):\n",
    "    # Vérification de la condition c / sqrt(a^2 + b^2) ∈ [-1, 1]\n",
    "    R = math.sqrt(a**2 + b**2)\n",
    "    if abs(c) > R:\n",
    "        raise ValueError(\"No solution: |c| must be ≤ sqrt(a^2 + b^2).\")\n",
    "    \n",
    "    # Calcul de theta\n",
    "    theta = math.atan2(b, a)  # atan2 donne le bon quadrant pour cos(theta) et sin(theta)\n",
    "    \n",
    "    # Calcul des solutions principales\n",
    "    cos_argument = c / R\n",
    "    acos_value = math.acos(cos_argument)\n",
    "    \n",
    "    # Deux solutions principales\n",
    "    x1 = theta + acos_value\n",
    "    x2 = theta - acos_value\n",
    "    \n",
    "    # Réduction dans [0, 2*pi]\n",
    "    x1 = x1 % (2 * math.pi)\n",
    "    x2 = x2 % (2 * math.pi)\n",
    "    \n",
    "    return min(x1,x2), max(x1,x2)\n",
    "\n",
    "# Exemple d'utilisation\n",
    "a, b, c = 3, 4, 2  # Exemple avec a=3, b=4, c=2\n",
    "solutions = solve_trig_eq(a, b, c)\n",
    "print(\"Solutions dans [0, 2*pi] :\", solutions)"
   ]
  },
  {
   "cell_type": "code",
   "execution_count": 74,
   "id": "9edc0837-0239-41f9-a4d8-5fd00096c839",
   "metadata": {},
   "outputs": [],
   "source": [
    "def reduce(a,b,c):\n",
    "    \"\"\"\n",
    "    Renvoie c modulo 2sqrt(a**2+b**2) tel que c/sqrt(a**2+b**2) est compris entre -1 et 1\n",
    "    \"\"\"\n",
    "    R = 2*np.sqrt(a**2 + b**2)\n",
    "    resc = c%R\n",
    "    if (resc > R/2):\n",
    "        resc -= R\n",
    "    return resc"
   ]
  },
  {
   "cell_type": "code",
   "execution_count": 105,
   "id": "e050794d-2218-4aed-80f8-0b43c33ca69e",
   "metadata": {},
   "outputs": [],
   "source": [
    "def coeffs(plaquette, index_lambda):\n",
    "    \"\"\"\n",
    "    Renvoie les coeffs a,b,c de ReTr(X plaquette) = acos(xi) +bsin(xi) +c avec X = exp(i xi lambda_index_lambda)\n",
    "    valable uniquement pour index_lambda = 2,3,5\n",
    "    \"\"\"\n",
    "    a,b,c = 0,0,0\n",
    "    if (index_lambda==2):\n",
    "        a = (plaquette[0,0]+plaquette[1,1]).real\n",
    "        b = (plaquette[1,0]-plaquette[0,1]).real\n",
    "        c = plaquette[2,2].real\n",
    "    if (index_lambda==3):\n",
    "        a = (plaquette[0,0]+plaquette[1,1]).real\n",
    "        b = (-plaquette[0,0]+plaquette[1,1]).imag\n",
    "        c = plaquette[2,2].real\n",
    "    if (index_lambda==5):\n",
    "        a = (plaquette[0,0]+plaquette[2,2]).real\n",
    "        b = (plaquette[2,0]-plaquette[0,2]).real\n",
    "        c = plaquette[1,1].real\n",
    "    return a,b,c\n",
    "\n",
    "def coeffs_8(plaquette):\n",
    "    a = (plaquette[0,0]+plaquette[1,1]).real\n",
    "    b = (-plaquette[0,0]-plaquette[1,1]).imag\n",
    "    c = plaquette[2,2].real\n",
    "    d = plaquette[2,2].imag\n",
    "    return a,b,c,d"
   ]
  },
  {
   "cell_type": "code",
   "execution_count": 152,
   "id": "d5fe58e3-ae98-476e-957d-7bb7521efd49",
   "metadata": {},
   "outputs": [],
   "source": [
    "def f_lambda_8_solve(xi, a, b, c, d, gamma):\n",
    "    return a*np.cos(xi/np.sqrt(3))+b*np.sin(xi/np.sqrt(3))+c*np.cos(2*xi/np.sqrt(3))+d*np.sin(2*xi/np.sqrt(3)) - gamma\n",
    "\n",
    "def derivee_f_lambda_8(xi,a,b,c,d):\n",
    "    return -a/np.sqrt(3)*np.sin(xi/np.sqrt(3))+b/np.sqrt(3)*np.cos(xi/np.sqrt(3))-2*c/np.sqrt(3)*np.sin(2*xi/np.sqrt(3))+2*d/np.sqrt(3)*np.cos(2*xi/np.sqrt(3))\n",
    "\n",
    "def derivee_f_lambda_8_plus(xi, a,b,c,d):\n",
    "    return max(0, derivee_f_lambda_8(xi,a,b,c,d))\n",
    "\n",
    "def reduce_8(a,b,c,d, gamma):\n",
    "    #Réduit le réel gamma modulo l'énergie gagnée sur une période pour lambda_8\n",
    "    R,*_ = quad(derivee_f_lambda_8_plus, 0, 2* np.sqrt(3) * np.pi, args=(1,1,1,1))\n",
    "    resgamma = gamma%R\n",
    "    if (resgamma > R/2):\n",
    "        resgamma -= R\n",
    "    return resgamma\n",
    "\n",
    "def solve_rejet_8(a,b,c,d,gamma):\n",
    "    \"\"\"\n",
    "    Résout l'équation f_lambda_8_solve(xi,a,b,c,d,gamma) = 0 modulo une période -> retourne le xi rejet pour lambda_8\n",
    "    \"\"\"\n",
    "    x_ini = 0\n",
    "    solution = fsolve(f_lambda_8_solve, x_ini, args=(a,b,c,d,reduce_8(a,b,c,d,gamma)))\n",
    "    #print(f_lambda_8_solve(solution[0]%(2*np.sqrt(3)*np.pi),a,b,c,d,gamma))\n",
    "    return solution[0]%(2*np.sqrt(3)*np.pi)\n",
    "    "
   ]
  },
  {
   "cell_type": "code",
   "execution_count": 191,
   "id": "d6388034-5bb1-4d98-8441-6ec44e931e12",
   "metadata": {},
   "outputs": [],
   "source": [
    "def ECMC_step(conf, x, t, mu, index_lambda, beta):\n",
    "    \"\"\"\n",
    "    Effectue une étape de ECMC : renvoie la matrice X = exp(i xi lambda_{indice_lambda}) et l'angle xi de l'évènement de rejet pour\n",
    "    le lien (x,t,mu) de la configuration conf, ainsi que next_link le lien dans la plaquette responsable du rejet qui devra être changé ensuite\n",
    "    index_lambda peut valoir 2,3,5,8 uniquement\n",
    "    \"\"\"\n",
    "\n",
    "    if (index_lambda!=2) and (index_lambda!=3) and (index_lambda!=5) and (index_lambda!=8):\n",
    "        raise ValueError(\"Wrong index_lambda value, must be in {2,3,5,8}\")\n",
    "    #On calcule les deux plaquettes contenant le lien :\n",
    "    L,T,*_ = conf.shape\n",
    "    plaquette_1 = calculate_plaquette(conf,x,t)\n",
    "    plaquette_2 = np.eye(3, dtype = complex)\n",
    "    if (mu==0):\n",
    "        plaquette_2 = calculate_plaquette(conf, x, t-1)\n",
    "    if (mu==1):\n",
    "        plaquette_2 = calculate_plaquette(conf, x-1, t) \n",
    "\n",
    "    #Le xi rejet qui sera rendu à la fin\n",
    "    xi = 0\n",
    "    \n",
    "    #xi rejet dans les plaquettes 1 et 2\n",
    "    xi_min_1 = 0\n",
    "    xi_min_2 = 0\n",
    "    \n",
    "    p = random()\n",
    "    gamma1 = (-3/beta)*math.log(p) + np.trace(plaquette_1).real\n",
    "    gamma2 = (-3/beta)*math.log(p) + np.trace(plaquette_2).real\n",
    "\n",
    "    #On calcule les coefficients a,b et c de l'équation acos(xi)+bsin(xi)=c à résoudre, dans le cas ou on est pas sur lambda_8\n",
    "    if (index_lambda != 8):\n",
    "        a1, a2 = 0, 0\n",
    "        b1, b2 = 0, 0\n",
    "        a1, b1, cc1 = coeffs(plaquette_1, index_lambda)\n",
    "        a2, b2, cc2 = coeffs(plaquette_2, index_lambda)\n",
    "        c1 = gamma1 - cc1\n",
    "        c2 = gamma2 - cc2\n",
    "    \n",
    "        #On enlève les contributions périodiques\n",
    "        c1 = reduce(a1,b1,c1)\n",
    "        c2 = reduce(a2,b2,c2)\n",
    "\n",
    "        #On trouve xi rejet\n",
    "        xi_min_1,*_ = solve_trig_eq(a1, b1, c1)\n",
    "        xi_min_2,*_ = solve_trig_eq(a2, b2, c2)\n",
    "\n",
    "        \n",
    "\n",
    "    #Si on est sur lambda_8 :\n",
    "    if (index_lambda == 8):\n",
    "        a1,b1,c1,d1 = coeffs_8(plaquette_1)\n",
    "        a2,b2,c2,d2 = coeffs_8(plaquette_2)\n",
    "        xi_min_1 = solve_rejet_8(a1,b1,c1,d1,gamma1)\n",
    "        xi_min_2 = solve_rejet_8(a2,b2,c2,d2,gamma2)\n",
    "    \n",
    "    \n",
    "    #On choisit le xi le plus petit\n",
    "    xi = min(xi_min_1, xi_min_2)\n",
    "\n",
    "    \n",
    "    #On choisit le prochain lien a modifier dans la plaquette responsable du refus, en prenant le prochain lien dans le sens trigo\n",
    "    #(les plaquettes sont orientées dans le sens trigo)\n",
    "    if (xi_min_1<=xi_min_2):\n",
    "        #print(\"Refus dans la 1ère plaquette\")\n",
    "        if (mu==0):\n",
    "            next_link = ((x+1)%L,t,1)\n",
    "        if (mu==1):\n",
    "            next_link = (x,t,0)\n",
    "        \n",
    "    else:\n",
    "        #print(\"Refus dans la 2ème plaquette\")\n",
    "        if (mu==0):\n",
    "            next_link = (x,(t-1)%T,1)\n",
    "        if (mu==1):\n",
    "            next_link = ((x-1)%L,(t-1)%T,0)\n",
    "            \n",
    "    if (index_lambda==2):\n",
    "        X = el_2(xi)\n",
    "    if (index_lambda==3):\n",
    "        X = el_3(xi)\n",
    "    if (index_lambda==5):\n",
    "        X = el_5(xi)\n",
    "    if (index_lambda==8):\n",
    "        X = el_8(xi)\n",
    "\n",
    "    return X, xi, next_link"
   ]
  },
  {
   "cell_type": "code",
   "execution_count": 226,
   "id": "74772bda-fa4f-4ff6-b26c-07157ba32b98",
   "metadata": {},
   "outputs": [
    {
     "name": "stdout",
     "output_type": "stream",
     "text": [
      "19.98006506409004\n",
      "22.242812019628314\n"
     ]
    },
    {
     "name": "stderr",
     "output_type": "stream",
     "text": [
      "/tmp/ipykernel_6855/4291762139.py:23: RuntimeWarning: The iteration is not making good progress, as measured by the \n",
      " improvement from the last ten iterations.\n",
      "  solution = fsolve(f_lambda_8_solve, x_ini, args=(a,b,c,d,reduce_8(a,b,c,d,gamma)))\n"
     ]
    }
   ],
   "source": [
    "c = init_conf(3,3,cold=False)\n",
    "beta = 2.5\n",
    "print(calculate_action(c, beta))\n",
    "index_lambda=8\n",
    "X, xi, next_link = ECMC_step(c,2,1,1,index_lambda,beta)\n",
    "x,t,mu = next_link\n",
    "update_link(c, x,t,mu, X)\n",
    "print(calculate_action(c,beta))"
   ]
  },
  {
   "cell_type": "code",
   "execution_count": null,
   "id": "0dccba81-4f7a-40d4-9037-f94d748f0b5f",
   "metadata": {},
   "outputs": [],
   "source": []
  }
 ],
 "metadata": {
  "kernelspec": {
   "display_name": "Python 3 (ipykernel)",
   "language": "python",
   "name": "python3"
  },
  "language_info": {
   "codemirror_mode": {
    "name": "ipython",
    "version": 3
   },
   "file_extension": ".py",
   "mimetype": "text/x-python",
   "name": "python",
   "nbconvert_exporter": "python",
   "pygments_lexer": "ipython3",
   "version": "3.10.14"
  }
 },
 "nbformat": 4,
 "nbformat_minor": 5
}
